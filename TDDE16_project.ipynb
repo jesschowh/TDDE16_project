{
 "cells": [
  {
   "cell_type": "code",
   "execution_count": 183,
   "metadata": {},
   "outputs": [],
   "source": [
    "import numpy as np\n",
    "import pandas as pd\n",
    "import matplotlib.pyplot as plt\n",
    "import seaborn as sns\n",
    "import spacy"
   ]
  },
  {
   "attachments": {},
   "cell_type": "markdown",
   "metadata": {},
   "source": [
    "### Data exploration and extending the database"
   ]
  },
  {
   "cell_type": "code",
   "execution_count": 13,
   "metadata": {},
   "outputs": [
    {
     "name": "stdout",
     "output_type": "stream",
     "text": [
      "Data size: (5000, 4) \n",
      "Data labels:  ['index', 'artist', 'title', 'mood']\n",
      "Distribution of mood/sentiment in data set\n",
      " pos    2500\n",
      "neg    2500\n",
      "Name: mood, dtype: int64\n"
     ]
    }
   ],
   "source": [
    "# load train data\n",
    "labelled_data = pd.read_csv('MoodyLyricsPN.csv')\n",
    "\n",
    "print('Data size:', labelled_data.shape, '\\nData labels: ', list(labelled_data.columns.values))\n",
    "print('Distribution of mood/sentiment in data set\\n', labelled_data['mood'].value_counts())"
   ]
  },
  {
   "attachments": {},
   "cell_type": "markdown",
   "metadata": {},
   "source": [
    "The train data consists of the labels ['index', 'artist', 'title', 'mood'] and has 5000 elements with an even distribution in each of the classes positive and negative. To train a sentiment analysis model, the dataset is extended with the lyrics. This is done in the file ***getLyrics.py*** and saved to a separate csv-file and imported in the next cell. Something to take note of is that the lyrics to some songs could not be retrieved and therefore there is less data in the extended dataset. "
   ]
  },
  {
   "cell_type": "code",
   "execution_count": 50,
   "metadata": {},
   "outputs": [
    {
     "name": "stdout",
     "output_type": "stream",
     "text": [
      "Data size: (4801, 5) \n",
      "Data labels:  ['index', 'artist', 'title', 'mood', 'lyrics']\n",
      "Distribution of mood/sentiment in data set\n",
      " pos    2415\n",
      "neg    2386\n",
      "Name: mood, dtype: int64\n",
      "\n",
      "Raw data\n",
      "0       I know you'll tell me all\\nNot to fall\\nI lean...\n",
      "1       I've been crying (Ooh, ooh)\\n'Cause I'm lonely...\n",
      "2       Goodbye cruel world\\n\\nOf this shape, a star o...\n",
      "3       Warm and brown beneath the sun\\nNever learned ...\n",
      "4       Hurrying through the forks without regrets\\nDi...\n",
      "                              ...                        \n",
      "4796    People tell us lies\\nLies are all they know\\nE...\n",
      "4797    She's a very kinky girl\\nThe kind you don't ta...\n",
      "4798    And he won't fall into the sleep of the just\\n...\n",
      "4799    I've got a big, big, big heartbeat, yeah!\\nI t...\n",
      "4800    Quiet please, turn it off, shut it down\\nSlow ...\n",
      "Name: lyrics, Length: 4801, dtype: object\n",
      "\n",
      "Processed data\n",
      "0       I know you'll tell me all Not to fall I lean a...\n",
      "1       I've been crying (Ooh, ooh) 'Cause I'm lonely ...\n",
      "2       Goodbye cruel world  Of this shape, a star of ...\n",
      "3       Warm and brown beneath the sun Never learned t...\n",
      "4       Hurrying through the forks without regrets Dif...\n",
      "                              ...                        \n",
      "4796    People tell us lies Lies are all they know Eye...\n",
      "4797    She's a very kinky girl The kind you don't tak...\n",
      "4798    And he won't fall into the sleep of the just T...\n",
      "4799    I've got a big, big, big heartbeat, yeah! I th...\n",
      "4800    Quiet please, turn it off, shut it down Slow d...\n",
      "Name: lyrics, Length: 4801, dtype: object\n"
     ]
    }
   ],
   "source": [
    "# import the extended dataset\n",
    "extended_data = pd.read_csv('train-data_extended.csv')\n",
    "\n",
    "print('Data size:', extended_data.shape, '\\nData labels: ', list(extended_data.columns.values))\n",
    "print('Distribution of mood/sentiment in data set\\n', extended_data['mood'].value_counts())\n",
    "\n",
    "print('\\nRaw data')\n",
    "print(extended_data['lyrics']) # there are many \\n -- remove these\n",
    "extended_data['lyrics'] = extended_data['lyrics'].str.replace('\\n', ' ') \n",
    "print('\\nProcessed data')\n",
    "print(extended_data['lyrics'])"
   ]
  },
  {
   "cell_type": "code",
   "execution_count": 51,
   "metadata": {},
   "outputs": [
    {
     "name": "stdout",
     "output_type": "stream",
     "text": [
      "Data size: (3600, 5) \n",
      "Distribution of mood/sentiment in data set\n",
      " pos    1814\n",
      "neg    1786\n",
      "Name: mood, dtype: int64\n",
      "Data size: (1201, 5) \n",
      "Distribution of mood/sentiment in data set\n",
      " pos    601\n",
      "neg    600\n",
      "Name: mood, dtype: int64\n"
     ]
    }
   ],
   "source": [
    "# Split data into train and test set\n",
    "from sklearn.model_selection import train_test_split\n",
    "\n",
    "# split with 75-25 ratio into train and test set\n",
    "train_data, test_data = train_test_split(extended_data, test_size=0.25, random_state=25)\n",
    "\n",
    "print('Data size:', train_data.shape, '\\nDistribution of mood/sentiment in data set\\n', train_data['mood'].value_counts())\n",
    "print('Data size:', test_data.shape, '\\nDistribution of mood/sentiment in data set\\n', test_data['mood'].value_counts())\n",
    "\n",
    "x_train = train_data['lyrics'].astype('U').values\n",
    "y_train = train_data['mood']\n",
    "\n",
    "x_test = test_data['lyrics']\n",
    "y_test = test_data['mood']"
   ]
  },
  {
   "attachments": {},
   "cell_type": "markdown",
   "metadata": {},
   "source": [
    "### Preprocessing and training model"
   ]
  },
  {
   "cell_type": "code",
   "execution_count": 53,
   "metadata": {},
   "outputs": [],
   "source": [
    "# Preprocessing the lyrics using spacy\n",
    "nlp = spacy.load('/usr/local/lib/python3.9/site-packages/en_core_web_lg/en_core_web_lg-3.4.1/') \n",
    "\n",
    "# remove stop words and punctations\n",
    "def tokenize(text):\n",
    "    text_tokens = nlp(text)\n",
    "    res = [word.lemma_ for word in text_tokens if (not word.is_stop and not word.is_punct)]\n",
    "    return res"
   ]
  },
  {
   "cell_type": "code",
   "execution_count": 207,
   "metadata": {},
   "outputs": [],
   "source": [
    "from sklearn.pipeline import Pipeline\n",
    "from sklearn.feature_extraction.text import CountVectorizer, TfidfTransformer\n",
    "from sklearn.metrics import classification_report, accuracy_score\n",
    "from sklearn.preprocessing import FunctionTransformer, StandardScaler\n",
    "from sklearn.naive_bayes import GaussianNB, MultinomialNB\n",
    "from sklearn.linear_model import LogisticRegression\n",
    "from sklearn.svm import LinearSVC, SVC\n",
    "from sklearn.neighbors import KNeighborsClassifier\n",
    "\n",
    "vectorizer = CountVectorizer(tokenizer = tokenize)"
   ]
  },
  {
   "attachments": {},
   "cell_type": "markdown",
   "metadata": {},
   "source": [
    "Define pipelines to compare different classifiers in the binary classification problem "
   ]
  },
  {
   "cell_type": "code",
   "execution_count": 208,
   "metadata": {},
   "outputs": [
    {
     "name": "stdout",
     "output_type": "stream",
     "text": [
      "Naive-Bayes classification report\n",
      "              precision    recall  f1-score   support\n",
      "\n",
      "         neg       0.68      0.82      0.74       600\n",
      "         pos       0.78      0.62      0.69       601\n",
      "\n",
      "    accuracy                           0.72      1201\n",
      "   macro avg       0.73      0.72      0.72      1201\n",
      "weighted avg       0.73      0.72      0.72      1201\n",
      "\n"
     ]
    }
   ],
   "source": [
    "# Naive-Bayes \n",
    "nb_pipe = Pipeline([('vectorizer', CountVectorizer(tokenizer = tokenize)),\n",
    "                ('tfidf', TfidfTransformer()),\n",
    "                ('classifier', MultinomialNB())])\n",
    "\n",
    "nb_pipe.fit(x_train, y_train)\n",
    "nb_pred = nb_pipe.predict(x_test)\n",
    "\n",
    "print('Naive-Bayes classification report')\n",
    "print(classification_report(y_test, nb_pred))\n"
   ]
  },
  {
   "cell_type": "code",
   "execution_count": 209,
   "metadata": {},
   "outputs": [
    {
     "name": "stdout",
     "output_type": "stream",
     "text": [
      "Training accuracy 0.8547222222222223\n",
      "Test accuracy 0.7194004995836802\n"
     ]
    }
   ],
   "source": [
    "print('Training accuracy', nb_pipe.score(x_train, y_train))\n",
    "print('Test accuracy', accuracy_score(y_test, nb_pred))"
   ]
  },
  {
   "cell_type": "code",
   "execution_count": 125,
   "metadata": {},
   "outputs": [
    {
     "name": "stdout",
     "output_type": "stream",
     "text": [
      "Logistic regression classification report\n",
      "              precision    recall  f1-score   support\n",
      "\n",
      "         neg       0.74      0.72      0.73       600\n",
      "         pos       0.73      0.75      0.74       601\n",
      "\n",
      "    accuracy                           0.73      1201\n",
      "   macro avg       0.73      0.73      0.73      1201\n",
      "weighted avg       0.73      0.73      0.73      1201\n",
      "\n"
     ]
    }
   ],
   "source": [
    "# Logistic regression\n",
    "logreg_pipe = Pipeline([('vectorizer', vectorizer),\n",
    "                ('tfidf', TfidfTransformer()),\n",
    "                ('classifier', LogisticRegression())])\n",
    "logreg_pipe.fit(x_train,y_train)\n",
    "logreg_pred = logreg_pipe.predict(x_test)\n",
    "\n",
    "print('Logistic regression classification report')\n",
    "print(classification_report(y_test, logreg_pred))"
   ]
  },
  {
   "cell_type": "code",
   "execution_count": 122,
   "metadata": {},
   "outputs": [
    {
     "name": "stdout",
     "output_type": "stream",
     "text": [
      "Support vector machine classification report\n",
      "              precision    recall  f1-score   support\n",
      "\n",
      "         neg       0.75      0.69      0.72       600\n",
      "         pos       0.71      0.78      0.74       601\n",
      "\n",
      "    accuracy                           0.73      1201\n",
      "   macro avg       0.73      0.73      0.73      1201\n",
      "weighted avg       0.73      0.73      0.73      1201\n",
      "\n"
     ]
    }
   ],
   "source": [
    "# Support vector machine\n",
    "svm_pipe = Pipeline([('vectorizer', vectorizer),\n",
    "                ('tfidf', TfidfTransformer()),\n",
    "                ('classifier', LinearSVC(loss='hinge'))])\n",
    "svm_pipe.fit(x_train,y_train)\n",
    "svm_pred = svm_pipe.predict(x_test)\n",
    "\n",
    "print('Support vector machine classification report')\n",
    "print(classification_report(y_test, svm_pred))"
   ]
  },
  {
   "cell_type": "code",
   "execution_count": 123,
   "metadata": {},
   "outputs": [
    {
     "name": "stdout",
     "output_type": "stream",
     "text": [
      "Logistic Regression\n",
      "Training accuracy 0.8652777777777778\n",
      "Test accuracy 0.7343880099916736\n",
      "SVM\n",
      "Training accuracy 0.8997222222222222\n",
      "Test accuracy 0.7327227310574521\n"
     ]
    }
   ],
   "source": [
    "print('Logistic Regression')\n",
    "print('Training accuracy', logreg_pipe.score(x_train, y_train))\n",
    "print('Test accuracy', accuracy_score(y_test, logreg_pred))\n",
    "\n",
    "print('SVM')\n",
    "print('Training accuracy', svm_pipe.score(x_train, y_train))\n",
    "print('Test accuracy', accuracy_score(y_test, svm_pred))"
   ]
  },
  {
   "attachments": {},
   "cell_type": "markdown",
   "metadata": {},
   "source": [
    "### Apply model to spotify dataset with valence value"
   ]
  },
  {
   "cell_type": "code",
   "execution_count": 10,
   "metadata": {},
   "outputs": [
    {
     "name": "stdout",
     "output_type": "stream",
     "text": [
      "Test data size: (158353, 5) \n",
      "Test data labels:  ['Unnamed: 0', 'artist', 'seq', 'song', 'label']\n"
     ]
    }
   ],
   "source": [
    "spotify_data = pd.read_csv('labeled_lyrics_cleaned.csv')\n",
    "print('Test data size:', spotify_data.shape, '\\nTest data labels: ', list(spotify_data.columns.values))"
   ]
  },
  {
   "attachments": {},
   "cell_type": "markdown",
   "metadata": {},
   "source": [
    "artist = artist name<br>\n",
    "seq = song's lyrics<br>\n",
    "song = song title<br>\n",
    "label = Spotify valence feature attribute for this song"
   ]
  },
  {
   "cell_type": "code",
   "execution_count": 199,
   "metadata": {},
   "outputs": [
    {
     "data": {
      "image/png": "[encoded data removed]",
      "text/plain": [
       "<Figure size 432x288 with 1 Axes>"
      ]
     },
     "metadata": {
      "needs_background": "light"
     },
     "output_type": "display_data"
    }
   ],
   "source": [
    "# Distribution of spotify valence value in the spotify dataset\n",
    "# Spotify valence is \"A measure from 0.0 to 1.0 describing the musical positiveness conveyed \n",
    "# by a track. Tracks with high valence sound more positive (e.g. happy, cheerful, euphoric), \n",
    "# while tracks with low valence sound more negative (e.g. sad, depressed, angry).\" \n",
    "# (quoted from https://developer.spotify.com/documentation/web-api/reference/#/operations/get-audio-features)\n",
    "\n",
    "plt.hist(spotify_data['label'], bins=20)\n",
    "plt.title('Distribution of spotify valence score in the spotify valence dataset')\n",
    "plt.show()\n",
    "\n",
    "# As seen in the histogram, the songs have valence values distributed across the [0, 1] interval "
   ]
  },
  {
   "cell_type": "code",
   "execution_count": 212,
   "metadata": {},
   "outputs": [
    {
     "name": "stdout",
     "output_type": "stream",
     "text": [
      "Songs with valence < 0.5 82413\n",
      "Songs with valence >= 0.5 75940\n"
     ]
    }
   ],
   "source": [
    "print('Songs with valence < 0.5',spotify_data[spotify_data['label'] < 0.5 ]['label'].count())\n",
    "print('Songs with valence >= 0.5',spotify_data[spotify_data['label'] >= 0.5 ]['label'].count())"
   ]
  },
  {
   "attachments": {},
   "cell_type": "markdown",
   "metadata": {},
   "source": [
    "Logistic regression model and SVM model were close in the test accuracies, but the training accuracy and test accuracy of the logistic regression model were closer in score which indicates a less overfitted model compared to the SVM model. Therefore the logistic regression model is used in the rest of the codee. "
   ]
  },
  {
   "cell_type": "code",
   "execution_count": 159,
   "metadata": {},
   "outputs": [],
   "source": [
    "pred = logreg_pipe.predict(spotify_data['seq'])"
   ]
  },
  {
   "cell_type": "code",
   "execution_count": 205,
   "metadata": {},
   "outputs": [
    {
     "name": "stdout",
     "output_type": "stream",
     "text": [
      "pos    91185\n",
      "neg    67168\n",
      "Name: x, dtype: int64\n"
     ]
    },
    {
     "data": {
      "image/png": "[encoded data removed]",
      "text/plain": [
       "<Figure size 432x288 with 1 Axes>"
      ]
     },
     "metadata": {
      "needs_background": "light"
     },
     "output_type": "display_data"
    },
    {
     "data": {
      "image/png": "[encoded data removed]",
      "text/plain": [
       "<Figure size 432x288 with 1 Axes>"
      ]
     },
     "metadata": {
      "needs_background": "light"
     },
     "output_type": "display_data"
    },
    {
     "data": {
      "image/png": "[encoded data removed]",
      "text/plain": [
       "<Figure size 432x288 with 1 Axes>"
      ]
     },
     "metadata": {
      "needs_background": "light"
     },
     "output_type": "display_data"
    },
    {
     "data": {
      "image/png": "[encoded data removed]",
      "text/plain": [
       "<Figure size 432x288 with 1 Axes>"
      ]
     },
     "metadata": {
      "needs_background": "light"
     },
     "output_type": "display_data"
    }
   ],
   "source": [
    "plot_data = pd.DataFrame({'x':pred, 'y':spotify_data['label']})\n",
    "print(plot_data['x'].value_counts())\n",
    "# separate plot_data into positive and negatives\n",
    "pos_data, neg_data = plot_data[(mask:=plot_data['x'] == 'pos')], plot_data[~mask]\n",
    "\n",
    "# plot pos and neg in separate histograms\n",
    "plt.subplot(2, 1, 1)\n",
    "plt.hist(pos_data['y'], bins=20)\n",
    "plt.title('Distribution of spotify valence score of song lyrics with positive sentiment')\n",
    "plt.show()\n",
    "\n",
    "plt.subplot(2, 1, 2)\n",
    "plt.hist(neg_data['y'], bins=20)\n",
    "plt.title('Distribution of spotify valence score of song lyrics with negative sentiment')\n",
    "plt.show()\n",
    "\n",
    "# plot pos and neg in same histogram\n",
    "plt.hist(pos_data['y'], bins=20, alpha=0.5, label='pos')\n",
    "plt.hist(neg_data['y'], bins=20, alpha=0.5, label='neg')\n",
    "plt.legend()\n",
    "plt.title('Distribution of spotify valence score of song lyrics with positive or negative sentiment')\n",
    "plt.show()\n",
    "\n",
    "# plot pos and neg in normalised histogram\n",
    "plt.hist(pos_data['y'], bins=20, alpha=0.5, label='pos', density=True)\n",
    "plt.hist(neg_data['y'], bins=20, alpha=0.5, label='neg', density=True)\n",
    "plt.legend()\n",
    "plt.title('Distribution of spotify valence score of song lyrics with positive or negative sentiment, normalised')\n",
    "plt.show()\n",
    "\n"
   ]
  }
 ],
 "metadata": {
  "kernelspec": {
   "display_name": "Python 3 (ipykernel)",
   "language": "python",
   "name": "python3"
  },
  "language_info": {
   "codemirror_mode": {
    "name": "ipython",
    "version": 3
   },
   "file_extension": ".py",
   "mimetype": "text/x-python",
   "name": "python",
   "nbconvert_exporter": "python",
   "pygments_lexer": "ipython3",
   "version": "3.9.7"
  },
  "orig_nbformat": 4,
  "vscode": {
   "interpreter": {
    "hash": "aee8b7b246df8f9039afb4144a1f6fd8d2ca17a180786b69acc140d282b71a49"
   }
  }
 },
 "nbformat": 4,
 "nbformat_minor": 2
}
